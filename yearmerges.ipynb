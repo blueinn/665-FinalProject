{
 "cells": [
  {
   "cell_type": "code",
   "execution_count": 2,
   "metadata": {},
   "outputs": [],
   "source": [
    "import pandas as pd\n",
    "import numpy as np\n",
    "import seaborn as sns\n",
    "import matplotlib.pyplot as plt\n",
    "import scipy.stats as stats\n",
    "%matplotlib inline"
   ]
  },
  {
   "cell_type": "code",
   "execution_count": 3,
   "metadata": {},
   "outputs": [],
   "source": [
    "er = pd.read_csv(\"data/fg-adv15.csv\")\n",
    "er1 = pd.read_csv(\"data/fg-dash15.csv\")\n",
    "er2 = pd.read_csv(\"data/fg-dis15.csv\")"
   ]
  },
  {
   "cell_type": "code",
   "execution_count": 4,
   "metadata": {},
   "outputs": [],
   "source": [
    "# merging 2015 data  \n",
    "mer= er.merge(er1, on='playerid', how='inner')\n",
    "cd15= mer.merge(er2, on='playerid', how = 'inner')"
   ]
  },
  {
   "cell_type": "code",
   "execution_count": 13,
   "metadata": {},
   "outputs": [],
   "source": [
    "cd15.to_csv('cd15.csv')"
   ]
  },
  {
   "cell_type": "code",
   "execution_count": null,
   "metadata": {},
   "outputs": [],
   "source": []
  },
  {
   "cell_type": "code",
   "execution_count": 3,
   "metadata": {},
   "outputs": [],
   "source": [
    "# merging 2016 data \n",
    "ew=pd.read_csv(\"data/fg-adv16.csv\")\n",
    "ew1=pd.read_csv(\"data/fg-dash16.csv\")\n",
    "ew2=pd.read_csv(\"data/fan-dis16.csv\")"
   ]
  },
  {
   "cell_type": "code",
   "execution_count": 4,
   "metadata": {},
   "outputs": [],
   "source": [
    "ewr=ew.merge(ew1, on='playerid', how='inner')\n",
    "cd16=ewr.merge(ew2, on='playerid', how='inner')"
   ]
  },
  {
   "cell_type": "code",
   "execution_count": 6,
   "metadata": {},
   "outputs": [],
   "source": [
    "cd16.to_csv('data/cd16.csv')"
   ]
  },
  {
   "cell_type": "code",
   "execution_count": null,
   "metadata": {},
   "outputs": [],
   "source": []
  },
  {
   "cell_type": "code",
   "execution_count": 35,
   "metadata": {},
   "outputs": [],
   "source": [
    "# merging 2017 data \n",
    "df = pd.read_csv(\"data/fg-adv17.csv\")\n",
    "df1 = pd.read_csv(\"data/fg-dash17.csv\")\n",
    "df2 = pd.read_csv(\"data/fg-dis17.csv\")"
   ]
  },
  {
   "cell_type": "code",
   "execution_count": 36,
   "metadata": {},
   "outputs": [],
   "source": [
    "mer1= df.merge(df1, on='playerid', how= 'inner')\n",
    "cd17= mer1.merge(df2, on='playerid', how='inner')"
   ]
  },
  {
   "cell_type": "code",
   "execution_count": 50,
   "metadata": {},
   "outputs": [],
   "source": [
    "cd17.to_csv('cd17.csv')"
   ]
  },
  {
   "cell_type": "code",
   "execution_count": null,
   "metadata": {},
   "outputs": [],
   "source": []
  },
  {
   "cell_type": "code",
   "execution_count": 42,
   "metadata": {},
   "outputs": [],
   "source": [
    "# merging 2018 data \n",
    "ds = pd.read_csv(\"data/fg-adv18.csv\")\n",
    "ds1 = pd.read_csv(\"data/fg-dash18.csv\")\n",
    "ds2 = pd.read_csv(\"datafg-dis18.csv\")"
   ]
  },
  {
   "cell_type": "code",
   "execution_count": 46,
   "metadata": {},
   "outputs": [],
   "source": [
    "mer2= ds.merge(ds1, on='playerid', how= 'inner')\n",
    "cd18= mer2.merge(ds2, on='playerid', how='inner')"
   ]
  },
  {
   "cell_type": "code",
   "execution_count": 51,
   "metadata": {},
   "outputs": [],
   "source": [
    "cd18.to_csv('cd18.csv')"
   ]
  },
  {
   "cell_type": "code",
   "execution_count": null,
   "metadata": {},
   "outputs": [],
   "source": []
  },
  {
   "cell_type": "code",
   "execution_count": null,
   "metadata": {},
   "outputs": [],
   "source": []
  }
 ],
 "metadata": {
  "kernelspec": {
   "display_name": "Python 2",
   "language": "python",
   "name": "python2"
  },
  "language_info": {
   "codemirror_mode": {
    "name": "ipython",
    "version": 2
   },
   "file_extension": ".py",
   "mimetype": "text/x-python",
   "name": "python",
   "nbconvert_exporter": "python",
   "pygments_lexer": "ipython2",
   "version": "2.7.15"
  }
 },
 "nbformat": 4,
 "nbformat_minor": 2
}
